{
  "cells": [
    {
      "cell_type": "code",
      "execution_count": 1,
      "metadata": {
        "id": "-v3yQFrhZudr"
      },
      "outputs": [],
      "source": [
        "import nltk"
      ]
    },
    {
      "cell_type": "code",
      "execution_count": 2,
      "metadata": {
        "colab": {
          "base_uri": "https://localhost:8080/"
        },
        "id": "M53Re4yxZudt",
        "outputId": "948fb86f-dd6f-48a6-b150-61deb8778247"
      },
      "outputs": [
        {
          "output_type": "stream",
          "name": "stdout",
          "text": [
            "[nltk_data] Downloading package stopwords to /root/nltk_data...\n",
            "[nltk_data]   Unzipping corpora/stopwords.zip.\n",
            "[nltk_data] Downloading package wordnet to /root/nltk_data...\n",
            "[nltk_data]   Unzipping corpora/wordnet.zip.\n"
          ]
        },
        {
          "output_type": "execute_result",
          "data": {
            "text/plain": [
              "True"
            ]
          },
          "metadata": {},
          "execution_count": 2
        }
      ],
      "source": [
        "nltk.download('stopwords')\n",
        "nltk.download('wordnet')"
      ]
    },
    {
      "cell_type": "code",
      "execution_count": 3,
      "metadata": {
        "id": "-9MPUJ9eZudu"
      },
      "outputs": [],
      "source": [
        "stop_words = nltk.corpus.stopwords.words('english')\n",
        "wtk = nltk.tokenize.RegexpTokenizer(r'\\w+')\n",
        "wnl = nltk.stem.wordnet.WordNetLemmatizer()"
      ]
    },
    {
      "cell_type": "code",
      "source": [
        "import pandas as pd"
      ],
      "metadata": {
        "id": "cN-J66JIjbSr"
      },
      "execution_count": 5,
      "outputs": []
    },
    {
      "cell_type": "code",
      "execution_count": 6,
      "metadata": {
        "id": "Rzu5oo5TZudv"
      },
      "outputs": [],
      "source": [
        "df = pd.read_csv('globalcount_data.csv')"
      ]
    },
    {
      "cell_type": "code",
      "execution_count": 7,
      "metadata": {
        "id": "cKILBh-vZudv"
      },
      "outputs": [],
      "source": [
        "text = df['progress_10_years_tr'].fillna('')"
      ]
    },
    {
      "cell_type": "code",
      "execution_count": null,
      "metadata": {
        "id": "fDhNJ1T2Zudw"
      },
      "outputs": [],
      "source": [
        "def normalize_corpus(papers):\n",
        "    norm_papers = []\n",
        "    for paper in papers:\n",
        "        paper = paper.lower()\n",
        "        #print(paper)\n",
        "        paper_tokens = [token.strip() for token in wtk.tokenize(paper)]\n",
        "        paper_tokens = [wnl.lemmatize(token) for token in paper_tokens if not token.isnumeric()]\n",
        "    #paper_tokens = [token for token in paper_tokens if len(token) > 1]\n",
        "    paper_tokens = [token for token in paper_tokens if token not in stop_words]\n",
        "    paper_tokens = list(filter(None, paper_tokens))\n",
        "    if paper_tokens:\n",
        "        norm_papers.append(paper_tokens)\n",
        "    return norm_papers"
      ]
    },
    {
      "cell_type": "code",
      "execution_count": null,
      "metadata": {
        "id": "tCxp0qsPZudx"
      },
      "outputs": [],
      "source": [
        "n_text = normalize_corpus(text)"
      ]
    },
    {
      "cell_type": "markdown",
      "metadata": {
        "id": "G2mz4B7AZudy"
      },
      "source": [
        "# GIVING UP ON Latent Dirichlet Allocation\n",
        "# Making Random Forests to check variable importance for various issues"
      ]
    },
    {
      "cell_type": "code",
      "execution_count": 15,
      "metadata": {
        "id": "92UfskflZud4"
      },
      "outputs": [],
      "source": [
        "from sklearn.ensemble import RandomForestClassifier\n",
        "import seaborn as sns\n",
        "import pandas as pd\n",
        "import numpy as np\n",
        "import matplotlib.pyplot as plt"
      ]
    },
    {
      "cell_type": "code",
      "execution_count": null,
      "metadata": {
        "id": "lmL7F2vsZud5",
        "outputId": "471c4760-34bf-4c1c-b355-0368ed474925"
      },
      "outputs": [
        {
          "name": "stdout",
          "output_type": "stream",
          "text": [
            "<class 'pandas.core.frame.DataFrame'>\n",
            "RangeIndex: 24051 entries, 0 to 24050\n",
            "Data columns (total 92 columns):\n",
            " #   Column                                                   Non-Null Count  Dtype  \n",
            "---  ------                                                   --------------  -----  \n",
            " 0   row_id                                                   24051 non-null  int64  \n",
            " 1   unique_id                                                24051 non-null  int64  \n",
            " 2   survey_type                                              24051 non-null  object \n",
            " 3   iso3166                                                  24046 non-null  object \n",
            " 4   surveydate                                               24051 non-null  object \n",
            " 5   city_town                                                24049 non-null  object \n",
            " 6   city_town_tr                                             20503 non-null  object \n",
            " 7   country_of_residence                                     24050 non-null  object \n",
            " 8   gender_not_listed                                        24051 non-null  int64  \n",
            " 9   cisgender_man                                            24051 non-null  int64  \n",
            " 10  cisgender_woman                                          24051 non-null  int64  \n",
            " 11  non_conforming_or_non_binary                             24051 non-null  int64  \n",
            " 12  gender_choose_not_to_identify                            24051 non-null  int64  \n",
            " 13  man                                                      24051 non-null  int64  \n",
            " 14  transgender_man                                          24051 non-null  int64  \n",
            " 15  transgender_woman                                        24051 non-null  int64  \n",
            " 16  woman                                                    24051 non-null  int64  \n",
            " 17  racial_identity_not_listed                               24051 non-null  int64  \n",
            " 18  asian                                                    24051 non-null  int64  \n",
            " 19  biracial_or_mixed                                        24051 non-null  int64  \n",
            " 20  black_or_of_african_descent                              24051 non-null  int64  \n",
            " 21  hispanic_or_latinx                                       24051 non-null  int64  \n",
            " 22  choose_not_to_identify                                   24051 non-null  int64  \n",
            " 23  indigenous                                               24051 non-null  int64  \n",
            " 24  indigenous_central_or_south_american                     24051 non-null  int64  \n",
            " 25  middle_eastern                                           24051 non-null  int64  \n",
            " 26  native_american                                          24051 non-null  int64  \n",
            " 27  native_hawaiian                                          24051 non-null  int64  \n",
            " 28  north_african                                            24051 non-null  int64  \n",
            " 29  pacific_islander                                         24051 non-null  int64  \n",
            " 30  south_asian                                              24051 non-null  int64  \n",
            " 31  southeast_asian                                          24051 non-null  int64  \n",
            " 32  white                                                    24051 non-null  int64  \n",
            " 33  age                                                      19503 non-null  object \n",
            " 34  issue_person_civil_rights_and_freedoms                   24051 non-null  int64  \n",
            " 35  issue_person_disability_rights                           24051 non-null  int64  \n",
            " 36  issue_person_economic_and_workers_rights                 24051 non-null  int64  \n",
            " 37  issue_person_education_and_youth_empowerment             24051 non-null  int64  \n",
            " 38  issue_person_ending_violence_harassment_and_abuse        24051 non-null  int64  \n",
            " 39  issue_person_environmental_justice                       24051 non-null  int64  \n",
            " 40  issue_person_immigrant_and_refugee_rights                24051 non-null  int64  \n",
            " 41  issue_person_indigenous_andor_roma_rights                24051 non-null  int64  \n",
            " 42  issue_person_LGBTQI+_rights                              24051 non-null  int64  \n",
            " 43  issue_person_racial_equity                               24051 non-null  int64  \n",
            " 44  issue_person_reproductive_freedom_and_bodily_autonomy    24051 non-null  int64  \n",
            " 45  issue_person_sexual_reproductive_and_parental_health     24051 non-null  int64  \n",
            " 46  barrier_person_civil_rights_and_freedoms                 6004 non-null   object \n",
            " 47  barrier_person_disability_rights                         1917 non-null   object \n",
            " 48  barrier_person_economic_and_workers_rights               4202 non-null   object \n",
            " 49  barrier_person_education_and_youth_empowerment           7050 non-null   object \n",
            " 50  barrier_person_ending_violence_harassment_and_abuse      12081 non-null  object \n",
            " 51  barrier_person_environmental_justice                     4589 non-null   object \n",
            " 52  barrier_person_immigrant_and_refugee_rights              1671 non-null   object \n",
            " 53  barrier_person_indigenous_andor_roma_rights              577 non-null    object \n",
            " 54  barrier_person_LGBTQI+_rights                            2076 non-null   object \n",
            " 55  barrier_racial_equity                                    3794 non-null   object \n",
            " 56  barrier_person_reproductive_freedom_and_bodily_autonomy  2034 non-null   object \n",
            " 57  barrier_person_sexual_reproductive_and_parental_health   2885 non-null   object \n",
            " 58  issue_city_civil_rights_and_freedoms                     24051 non-null  int64  \n",
            " 59  issue_city_disability_rights                             24051 non-null  int64  \n",
            " 60  issue_city_economic_and_workers_rights                   24051 non-null  int64  \n",
            " 61  issue_city_education_and_youth_empowerment               24051 non-null  int64  \n",
            " 62  issue_city_ending_violence_harassment_and_abuse          24051 non-null  int64  \n",
            " 63  issue_city_environmental_justice                         24051 non-null  int64  \n",
            " 64  issue_city_immigrant_and_refugee_rights                  24051 non-null  int64  \n",
            " 65  issue_city_indigenous_andor_roma_rights                  24051 non-null  int64  \n",
            " 66  issue_city_LGBTQI+_rights                                24051 non-null  int64  \n",
            " 67  issue_city_racial_equity                                 24051 non-null  int64  \n",
            " 68  issue_city_reproductive_freedom_and_bodily_autonomy      24051 non-null  int64  \n",
            " 69  issue_city_sexual_reproductive_and_parental_health       24051 non-null  int64  \n",
            " 70  barrier_city_civil_rights_and_freedoms                   2028 non-null   object \n",
            " 71  barrier_city_disability_rights                           936 non-null    object \n",
            " 72  barrier_city_economic_and_workers_rights                 2718 non-null   object \n",
            " 73  barrier_city_education_and_youth_empowerment             2662 non-null   object \n",
            " 74  barrier_city_ending_violence_harassment_and_abuse        3665 non-null   object \n",
            " 75  barrier_city_environmental_justice                       2003 non-null   object \n",
            " 76  barrier_city_immigrant_and_refugee_rights                1468 non-null   object \n",
            " 77  barrier_city_indigenous_andor_roma_rights                338 non-null    object \n",
            " 78  barrier_city_LGBTQI+_rights                              978 non-null    object \n",
            " 79  barrier_city_racial_equity                               1539 non-null   object \n",
            " 80  barrier_city_reproductive_freedom_and_bodily_autonomy    423 non-null    object \n",
            " 81  barrier_city_sexual_reproductive_and_parental_health     934 non-null    object \n",
            " 82  npo_1                                                    8609 non-null   object \n",
            " 83  npo_2                                                    7000 non-null   object \n",
            " 84  npo_3                                                    6009 non-null   object \n",
            " 85  progress_10_years                                        11429 non-null  object \n",
            " 86  npo_1_tr                                                 8602 non-null   object \n",
            " 87  npo_2_tr                                                 6997 non-null   object \n",
            " 88  npo_3_tr                                                 6008 non-null   object \n",
            " 89  progress_10_years_tr                                     11426 non-null  object \n",
            " 90  language                                                 12954 non-null  object \n",
            " 91  langauge_score                                           12954 non-null  float64\n",
            "dtypes: float64(1), int64(51), object(40)\n",
            "memory usage: 16.9+ MB\n"
          ]
        }
      ],
      "source": [
        "df.info()"
      ]
    },
    {
      "cell_type": "code",
      "execution_count": null,
      "metadata": {
        "id": "wxvfIq4TZud6"
      },
      "outputs": [],
      "source": [
        "training_set = df.iloc[:,8:34].fillna(value = 0)"
      ]
    },
    {
      "cell_type": "code",
      "execution_count": null,
      "metadata": {
        "id": "-0fvllYeZud7"
      },
      "outputs": [],
      "source": [
        "training_set = pd.get_dummies(training_set)"
      ]
    },
    {
      "cell_type": "code",
      "execution_count": null,
      "metadata": {
        "id": "utjBlPOUZud7"
      },
      "outputs": [],
      "source": [
        "# garbage code which doesn't work - kill\n",
        "\n",
        "analysis = df.iloc[:,34:46]\n",
        "analysis['country'] = df.loc[:,'country_of_residence']\n",
        "analysis_long = analysis.melt(id_vars = 'country', var_name = 'issue')\n",
        "analysis_long = pd.concat([df.iloc[:, 8:34], analysis_long], axis = 1)"
      ]
    },
    {
      "cell_type": "code",
      "execution_count": null,
      "metadata": {
        "id": "mrnM2nAYZud8"
      },
      "outputs": [],
      "source": [
        "# makes more sense\n",
        "# scratch that, this is still stupid\n",
        "\n",
        "analysis = df.iloc[:, 8:46]\n",
        "\n",
        "# the df is already in perfect shape for ML, this makes 0 sense\n",
        "\n",
        "analysis_long = analysis.melt(id_vars = analysis.columns[:26], var_name = 'issue')"
      ]
    },
    {
      "cell_type": "code",
      "execution_count": null,
      "metadata": {
        "id": "C1r62fchZud9"
      },
      "outputs": [],
      "source": [
        "# why am i doing this?\n",
        "\n",
        "analysis_long.drop(analysis_long[analysis_long['value'] == 0].index, inplace = True)"
      ]
    },
    {
      "cell_type": "code",
      "execution_count": null,
      "metadata": {
        "id": "o6wgzVZ1Zud-"
      },
      "outputs": [],
      "source": [
        "analysis_long.drop(labels = ['value'], axis = 1, inplace = True)"
      ]
    },
    {
      "cell_type": "code",
      "execution_count": null,
      "metadata": {
        "id": "bPfelZVRZud_",
        "outputId": "012740dd-0238-4d26-c2ea-e092ab74b021"
      },
      "outputs": [
        {
          "data": {
            "text/html": [
              "<div>\n",
              "<style scoped>\n",
              "    .dataframe tbody tr th:only-of-type {\n",
              "        vertical-align: middle;\n",
              "    }\n",
              "\n",
              "    .dataframe tbody tr th {\n",
              "        vertical-align: top;\n",
              "    }\n",
              "\n",
              "    .dataframe thead th {\n",
              "        text-align: right;\n",
              "    }\n",
              "</style>\n",
              "<table border=\"1\" class=\"dataframe\">\n",
              "  <thead>\n",
              "    <tr style=\"text-align: right;\">\n",
              "      <th></th>\n",
              "      <th>gender_not_listed</th>\n",
              "      <th>cisgender_man</th>\n",
              "      <th>cisgender_woman</th>\n",
              "      <th>non_conforming_or_non_binary</th>\n",
              "      <th>gender_choose_not_to_identify</th>\n",
              "      <th>man</th>\n",
              "      <th>transgender_man</th>\n",
              "      <th>transgender_woman</th>\n",
              "      <th>woman</th>\n",
              "      <th>racial_identity_not_listed</th>\n",
              "      <th>...</th>\n",
              "      <th>middle_eastern</th>\n",
              "      <th>native_american</th>\n",
              "      <th>native_hawaiian</th>\n",
              "      <th>north_african</th>\n",
              "      <th>pacific_islander</th>\n",
              "      <th>south_asian</th>\n",
              "      <th>southeast_asian</th>\n",
              "      <th>white</th>\n",
              "      <th>age</th>\n",
              "      <th>issue</th>\n",
              "    </tr>\n",
              "  </thead>\n",
              "  <tbody>\n",
              "    <tr>\n",
              "      <th>8</th>\n",
              "      <td>0</td>\n",
              "      <td>0</td>\n",
              "      <td>0</td>\n",
              "      <td>0</td>\n",
              "      <td>0</td>\n",
              "      <td>0</td>\n",
              "      <td>0</td>\n",
              "      <td>0</td>\n",
              "      <td>0</td>\n",
              "      <td>0</td>\n",
              "      <td>...</td>\n",
              "      <td>0</td>\n",
              "      <td>0</td>\n",
              "      <td>0</td>\n",
              "      <td>0</td>\n",
              "      <td>0</td>\n",
              "      <td>0</td>\n",
              "      <td>0</td>\n",
              "      <td>0</td>\n",
              "      <td>0</td>\n",
              "      <td>issue_person_civil_rights_and_freedoms</td>\n",
              "    </tr>\n",
              "    <tr>\n",
              "      <th>16</th>\n",
              "      <td>0</td>\n",
              "      <td>0</td>\n",
              "      <td>0</td>\n",
              "      <td>0</td>\n",
              "      <td>0</td>\n",
              "      <td>0</td>\n",
              "      <td>0</td>\n",
              "      <td>0</td>\n",
              "      <td>0</td>\n",
              "      <td>0</td>\n",
              "      <td>...</td>\n",
              "      <td>0</td>\n",
              "      <td>0</td>\n",
              "      <td>0</td>\n",
              "      <td>0</td>\n",
              "      <td>0</td>\n",
              "      <td>0</td>\n",
              "      <td>0</td>\n",
              "      <td>0</td>\n",
              "      <td>0</td>\n",
              "      <td>issue_person_civil_rights_and_freedoms</td>\n",
              "    </tr>\n",
              "    <tr>\n",
              "      <th>23</th>\n",
              "      <td>0</td>\n",
              "      <td>0</td>\n",
              "      <td>1</td>\n",
              "      <td>0</td>\n",
              "      <td>0</td>\n",
              "      <td>0</td>\n",
              "      <td>0</td>\n",
              "      <td>0</td>\n",
              "      <td>1</td>\n",
              "      <td>0</td>\n",
              "      <td>...</td>\n",
              "      <td>0</td>\n",
              "      <td>0</td>\n",
              "      <td>0</td>\n",
              "      <td>0</td>\n",
              "      <td>0</td>\n",
              "      <td>0</td>\n",
              "      <td>0</td>\n",
              "      <td>1</td>\n",
              "      <td>25 to 34</td>\n",
              "      <td>issue_person_civil_rights_and_freedoms</td>\n",
              "    </tr>\n",
              "    <tr>\n",
              "      <th>24</th>\n",
              "      <td>0</td>\n",
              "      <td>0</td>\n",
              "      <td>0</td>\n",
              "      <td>0</td>\n",
              "      <td>0</td>\n",
              "      <td>0</td>\n",
              "      <td>0</td>\n",
              "      <td>0</td>\n",
              "      <td>1</td>\n",
              "      <td>0</td>\n",
              "      <td>...</td>\n",
              "      <td>0</td>\n",
              "      <td>0</td>\n",
              "      <td>0</td>\n",
              "      <td>0</td>\n",
              "      <td>0</td>\n",
              "      <td>0</td>\n",
              "      <td>0</td>\n",
              "      <td>1</td>\n",
              "      <td>45 to 54</td>\n",
              "      <td>issue_person_civil_rights_and_freedoms</td>\n",
              "    </tr>\n",
              "    <tr>\n",
              "      <th>27</th>\n",
              "      <td>0</td>\n",
              "      <td>0</td>\n",
              "      <td>0</td>\n",
              "      <td>0</td>\n",
              "      <td>0</td>\n",
              "      <td>0</td>\n",
              "      <td>0</td>\n",
              "      <td>0</td>\n",
              "      <td>1</td>\n",
              "      <td>0</td>\n",
              "      <td>...</td>\n",
              "      <td>1</td>\n",
              "      <td>0</td>\n",
              "      <td>0</td>\n",
              "      <td>0</td>\n",
              "      <td>0</td>\n",
              "      <td>0</td>\n",
              "      <td>0</td>\n",
              "      <td>0</td>\n",
              "      <td>35 to 44</td>\n",
              "      <td>issue_person_civil_rights_and_freedoms</td>\n",
              "    </tr>\n",
              "    <tr>\n",
              "      <th>...</th>\n",
              "      <td>...</td>\n",
              "      <td>...</td>\n",
              "      <td>...</td>\n",
              "      <td>...</td>\n",
              "      <td>...</td>\n",
              "      <td>...</td>\n",
              "      <td>...</td>\n",
              "      <td>...</td>\n",
              "      <td>...</td>\n",
              "      <td>...</td>\n",
              "      <td>...</td>\n",
              "      <td>...</td>\n",
              "      <td>...</td>\n",
              "      <td>...</td>\n",
              "      <td>...</td>\n",
              "      <td>...</td>\n",
              "      <td>...</td>\n",
              "      <td>...</td>\n",
              "      <td>...</td>\n",
              "      <td>...</td>\n",
              "      <td>...</td>\n",
              "    </tr>\n",
              "    <tr>\n",
              "      <th>288580</th>\n",
              "      <td>0</td>\n",
              "      <td>0</td>\n",
              "      <td>1</td>\n",
              "      <td>0</td>\n",
              "      <td>0</td>\n",
              "      <td>0</td>\n",
              "      <td>0</td>\n",
              "      <td>0</td>\n",
              "      <td>0</td>\n",
              "      <td>0</td>\n",
              "      <td>...</td>\n",
              "      <td>0</td>\n",
              "      <td>0</td>\n",
              "      <td>0</td>\n",
              "      <td>0</td>\n",
              "      <td>0</td>\n",
              "      <td>0</td>\n",
              "      <td>0</td>\n",
              "      <td>1</td>\n",
              "      <td>45 to 54</td>\n",
              "      <td>issue_person_sexual_reproductive_and_parental_...</td>\n",
              "    </tr>\n",
              "    <tr>\n",
              "      <th>288588</th>\n",
              "      <td>0</td>\n",
              "      <td>0</td>\n",
              "      <td>0</td>\n",
              "      <td>0</td>\n",
              "      <td>0</td>\n",
              "      <td>0</td>\n",
              "      <td>0</td>\n",
              "      <td>0</td>\n",
              "      <td>1</td>\n",
              "      <td>0</td>\n",
              "      <td>...</td>\n",
              "      <td>0</td>\n",
              "      <td>0</td>\n",
              "      <td>0</td>\n",
              "      <td>0</td>\n",
              "      <td>0</td>\n",
              "      <td>0</td>\n",
              "      <td>0</td>\n",
              "      <td>1</td>\n",
              "      <td>25 to 34</td>\n",
              "      <td>issue_person_sexual_reproductive_and_parental_...</td>\n",
              "    </tr>\n",
              "    <tr>\n",
              "      <th>288601</th>\n",
              "      <td>0</td>\n",
              "      <td>0</td>\n",
              "      <td>0</td>\n",
              "      <td>0</td>\n",
              "      <td>0</td>\n",
              "      <td>0</td>\n",
              "      <td>0</td>\n",
              "      <td>0</td>\n",
              "      <td>1</td>\n",
              "      <td>0</td>\n",
              "      <td>...</td>\n",
              "      <td>0</td>\n",
              "      <td>0</td>\n",
              "      <td>0</td>\n",
              "      <td>0</td>\n",
              "      <td>0</td>\n",
              "      <td>0</td>\n",
              "      <td>0</td>\n",
              "      <td>0</td>\n",
              "      <td>18 to 24</td>\n",
              "      <td>issue_person_sexual_reproductive_and_parental_...</td>\n",
              "    </tr>\n",
              "    <tr>\n",
              "      <th>288605</th>\n",
              "      <td>0</td>\n",
              "      <td>0</td>\n",
              "      <td>0</td>\n",
              "      <td>0</td>\n",
              "      <td>0</td>\n",
              "      <td>0</td>\n",
              "      <td>0</td>\n",
              "      <td>0</td>\n",
              "      <td>1</td>\n",
              "      <td>0</td>\n",
              "      <td>...</td>\n",
              "      <td>0</td>\n",
              "      <td>0</td>\n",
              "      <td>0</td>\n",
              "      <td>0</td>\n",
              "      <td>0</td>\n",
              "      <td>0</td>\n",
              "      <td>0</td>\n",
              "      <td>1</td>\n",
              "      <td>25 to 34</td>\n",
              "      <td>issue_person_sexual_reproductive_and_parental_...</td>\n",
              "    </tr>\n",
              "    <tr>\n",
              "      <th>288609</th>\n",
              "      <td>0</td>\n",
              "      <td>0</td>\n",
              "      <td>0</td>\n",
              "      <td>0</td>\n",
              "      <td>0</td>\n",
              "      <td>0</td>\n",
              "      <td>0</td>\n",
              "      <td>0</td>\n",
              "      <td>1</td>\n",
              "      <td>0</td>\n",
              "      <td>...</td>\n",
              "      <td>0</td>\n",
              "      <td>0</td>\n",
              "      <td>0</td>\n",
              "      <td>0</td>\n",
              "      <td>0</td>\n",
              "      <td>0</td>\n",
              "      <td>0</td>\n",
              "      <td>1</td>\n",
              "      <td>25 to 34</td>\n",
              "      <td>issue_person_sexual_reproductive_and_parental_...</td>\n",
              "    </tr>\n",
              "  </tbody>\n",
              "</table>\n",
              "<p>60974 rows × 27 columns</p>\n",
              "</div>"
            ],
            "text/plain": [
              "        gender_not_listed  cisgender_man  cisgender_woman  \\\n",
              "8                       0              0                0   \n",
              "16                      0              0                0   \n",
              "23                      0              0                1   \n",
              "24                      0              0                0   \n",
              "27                      0              0                0   \n",
              "...                   ...            ...              ...   \n",
              "288580                  0              0                1   \n",
              "288588                  0              0                0   \n",
              "288601                  0              0                0   \n",
              "288605                  0              0                0   \n",
              "288609                  0              0                0   \n",
              "\n",
              "        non_conforming_or_non_binary  gender_choose_not_to_identify  man  \\\n",
              "8                                  0                              0    0   \n",
              "16                                 0                              0    0   \n",
              "23                                 0                              0    0   \n",
              "24                                 0                              0    0   \n",
              "27                                 0                              0    0   \n",
              "...                              ...                            ...  ...   \n",
              "288580                             0                              0    0   \n",
              "288588                             0                              0    0   \n",
              "288601                             0                              0    0   \n",
              "288605                             0                              0    0   \n",
              "288609                             0                              0    0   \n",
              "\n",
              "        transgender_man  transgender_woman  woman  racial_identity_not_listed  \\\n",
              "8                     0                  0      0                           0   \n",
              "16                    0                  0      0                           0   \n",
              "23                    0                  0      1                           0   \n",
              "24                    0                  0      1                           0   \n",
              "27                    0                  0      1                           0   \n",
              "...                 ...                ...    ...                         ...   \n",
              "288580                0                  0      0                           0   \n",
              "288588                0                  0      1                           0   \n",
              "288601                0                  0      1                           0   \n",
              "288605                0                  0      1                           0   \n",
              "288609                0                  0      1                           0   \n",
              "\n",
              "        ...  middle_eastern  native_american  native_hawaiian  north_african  \\\n",
              "8       ...               0                0                0              0   \n",
              "16      ...               0                0                0              0   \n",
              "23      ...               0                0                0              0   \n",
              "24      ...               0                0                0              0   \n",
              "27      ...               1                0                0              0   \n",
              "...     ...             ...              ...              ...            ...   \n",
              "288580  ...               0                0                0              0   \n",
              "288588  ...               0                0                0              0   \n",
              "288601  ...               0                0                0              0   \n",
              "288605  ...               0                0                0              0   \n",
              "288609  ...               0                0                0              0   \n",
              "\n",
              "        pacific_islander  south_asian  southeast_asian  white       age  \\\n",
              "8                      0            0                0      0         0   \n",
              "16                     0            0                0      0         0   \n",
              "23                     0            0                0      1  25 to 34   \n",
              "24                     0            0                0      1  45 to 54   \n",
              "27                     0            0                0      0  35 to 44   \n",
              "...                  ...          ...              ...    ...       ...   \n",
              "288580                 0            0                0      1  45 to 54   \n",
              "288588                 0            0                0      1  25 to 34   \n",
              "288601                 0            0                0      0  18 to 24   \n",
              "288605                 0            0                0      1  25 to 34   \n",
              "288609                 0            0                0      1  25 to 34   \n",
              "\n",
              "                                                    issue  \n",
              "8                  issue_person_civil_rights_and_freedoms  \n",
              "16                 issue_person_civil_rights_and_freedoms  \n",
              "23                 issue_person_civil_rights_and_freedoms  \n",
              "24                 issue_person_civil_rights_and_freedoms  \n",
              "27                 issue_person_civil_rights_and_freedoms  \n",
              "...                                                   ...  \n",
              "288580  issue_person_sexual_reproductive_and_parental_...  \n",
              "288588  issue_person_sexual_reproductive_and_parental_...  \n",
              "288601  issue_person_sexual_reproductive_and_parental_...  \n",
              "288605  issue_person_sexual_reproductive_and_parental_...  \n",
              "288609  issue_person_sexual_reproductive_and_parental_...  \n",
              "\n",
              "[60974 rows x 27 columns]"
            ]
          },
          "execution_count": 64,
          "metadata": {},
          "output_type": "execute_result"
        }
      ],
      "source": [
        "analysis_long"
      ]
    },
    {
      "cell_type": "code",
      "execution_count": null,
      "metadata": {
        "id": "rmdXeXDtZud_"
      },
      "outputs": [],
      "source": [
        "# NAs in age column\n",
        "# filling it with 0\n",
        "\n",
        "analysis_long['age'] = analysis_long['age'].fillna(0)"
      ]
    },
    {
      "cell_type": "code",
      "execution_count": null,
      "metadata": {
        "id": "SRwBiZcJZueA"
      },
      "outputs": [],
      "source": [
        "# subsetting analysis_long to check only civil rights and freedom issue\n",
        "analysis_long = analysis_long[analysis_long['issue'] == 'issue_person_civil_rights_and_freedoms']"
      ]
    },
    {
      "cell_type": "code",
      "execution_count": null,
      "metadata": {
        "id": "JsF8tp4fZueB"
      },
      "outputs": [],
      "source": [
        "target = analysis_long['issue']\n",
        "train_set = pd.get_dummies(analysis_long[[c for c in analysis_long.columns if c != 'issue']])"
      ]
    },
    {
      "cell_type": "code",
      "execution_count": null,
      "metadata": {
        "id": "WyxAu194ZueB",
        "outputId": "ce8bb6f4-9814-4ee7-fdd2-cdff6696e7eb"
      },
      "outputs": [
        {
          "data": {
            "text/html": [
              "<div>\n",
              "<style scoped>\n",
              "    .dataframe tbody tr th:only-of-type {\n",
              "        vertical-align: middle;\n",
              "    }\n",
              "\n",
              "    .dataframe tbody tr th {\n",
              "        vertical-align: top;\n",
              "    }\n",
              "\n",
              "    .dataframe thead th {\n",
              "        text-align: right;\n",
              "    }\n",
              "</style>\n",
              "<table border=\"1\" class=\"dataframe\">\n",
              "  <thead>\n",
              "    <tr style=\"text-align: right;\">\n",
              "      <th></th>\n",
              "      <th>gender_not_listed</th>\n",
              "      <th>cisgender_man</th>\n",
              "      <th>cisgender_woman</th>\n",
              "      <th>non_conforming_or_non_binary</th>\n",
              "      <th>gender_choose_not_to_identify</th>\n",
              "      <th>man</th>\n",
              "      <th>transgender_man</th>\n",
              "      <th>transgender_woman</th>\n",
              "      <th>woman</th>\n",
              "      <th>racial_identity_not_listed</th>\n",
              "      <th>...</th>\n",
              "      <th>southeast_asian</th>\n",
              "      <th>white</th>\n",
              "      <th>age_0</th>\n",
              "      <th>age_18 to 24</th>\n",
              "      <th>age_25 to 34</th>\n",
              "      <th>age_35 to 44</th>\n",
              "      <th>age_45 to 54</th>\n",
              "      <th>age_55 to 64</th>\n",
              "      <th>age_65 to 74</th>\n",
              "      <th>age_75 or older</th>\n",
              "    </tr>\n",
              "  </thead>\n",
              "  <tbody>\n",
              "    <tr>\n",
              "      <th>8</th>\n",
              "      <td>0</td>\n",
              "      <td>0</td>\n",
              "      <td>0</td>\n",
              "      <td>0</td>\n",
              "      <td>0</td>\n",
              "      <td>0</td>\n",
              "      <td>0</td>\n",
              "      <td>0</td>\n",
              "      <td>0</td>\n",
              "      <td>0</td>\n",
              "      <td>...</td>\n",
              "      <td>0</td>\n",
              "      <td>0</td>\n",
              "      <td>1</td>\n",
              "      <td>0</td>\n",
              "      <td>0</td>\n",
              "      <td>0</td>\n",
              "      <td>0</td>\n",
              "      <td>0</td>\n",
              "      <td>0</td>\n",
              "      <td>0</td>\n",
              "    </tr>\n",
              "    <tr>\n",
              "      <th>16</th>\n",
              "      <td>0</td>\n",
              "      <td>0</td>\n",
              "      <td>0</td>\n",
              "      <td>0</td>\n",
              "      <td>0</td>\n",
              "      <td>0</td>\n",
              "      <td>0</td>\n",
              "      <td>0</td>\n",
              "      <td>0</td>\n",
              "      <td>0</td>\n",
              "      <td>...</td>\n",
              "      <td>0</td>\n",
              "      <td>0</td>\n",
              "      <td>1</td>\n",
              "      <td>0</td>\n",
              "      <td>0</td>\n",
              "      <td>0</td>\n",
              "      <td>0</td>\n",
              "      <td>0</td>\n",
              "      <td>0</td>\n",
              "      <td>0</td>\n",
              "    </tr>\n",
              "    <tr>\n",
              "      <th>23</th>\n",
              "      <td>0</td>\n",
              "      <td>0</td>\n",
              "      <td>1</td>\n",
              "      <td>0</td>\n",
              "      <td>0</td>\n",
              "      <td>0</td>\n",
              "      <td>0</td>\n",
              "      <td>0</td>\n",
              "      <td>1</td>\n",
              "      <td>0</td>\n",
              "      <td>...</td>\n",
              "      <td>0</td>\n",
              "      <td>1</td>\n",
              "      <td>0</td>\n",
              "      <td>0</td>\n",
              "      <td>1</td>\n",
              "      <td>0</td>\n",
              "      <td>0</td>\n",
              "      <td>0</td>\n",
              "      <td>0</td>\n",
              "      <td>0</td>\n",
              "    </tr>\n",
              "    <tr>\n",
              "      <th>24</th>\n",
              "      <td>0</td>\n",
              "      <td>0</td>\n",
              "      <td>0</td>\n",
              "      <td>0</td>\n",
              "      <td>0</td>\n",
              "      <td>0</td>\n",
              "      <td>0</td>\n",
              "      <td>0</td>\n",
              "      <td>1</td>\n",
              "      <td>0</td>\n",
              "      <td>...</td>\n",
              "      <td>0</td>\n",
              "      <td>1</td>\n",
              "      <td>0</td>\n",
              "      <td>0</td>\n",
              "      <td>0</td>\n",
              "      <td>0</td>\n",
              "      <td>1</td>\n",
              "      <td>0</td>\n",
              "      <td>0</td>\n",
              "      <td>0</td>\n",
              "    </tr>\n",
              "    <tr>\n",
              "      <th>27</th>\n",
              "      <td>0</td>\n",
              "      <td>0</td>\n",
              "      <td>0</td>\n",
              "      <td>0</td>\n",
              "      <td>0</td>\n",
              "      <td>0</td>\n",
              "      <td>0</td>\n",
              "      <td>0</td>\n",
              "      <td>1</td>\n",
              "      <td>0</td>\n",
              "      <td>...</td>\n",
              "      <td>0</td>\n",
              "      <td>0</td>\n",
              "      <td>0</td>\n",
              "      <td>0</td>\n",
              "      <td>0</td>\n",
              "      <td>1</td>\n",
              "      <td>0</td>\n",
              "      <td>0</td>\n",
              "      <td>0</td>\n",
              "      <td>0</td>\n",
              "    </tr>\n",
              "    <tr>\n",
              "      <th>...</th>\n",
              "      <td>...</td>\n",
              "      <td>...</td>\n",
              "      <td>...</td>\n",
              "      <td>...</td>\n",
              "      <td>...</td>\n",
              "      <td>...</td>\n",
              "      <td>...</td>\n",
              "      <td>...</td>\n",
              "      <td>...</td>\n",
              "      <td>...</td>\n",
              "      <td>...</td>\n",
              "      <td>...</td>\n",
              "      <td>...</td>\n",
              "      <td>...</td>\n",
              "      <td>...</td>\n",
              "      <td>...</td>\n",
              "      <td>...</td>\n",
              "      <td>...</td>\n",
              "      <td>...</td>\n",
              "      <td>...</td>\n",
              "      <td>...</td>\n",
              "    </tr>\n",
              "    <tr>\n",
              "      <th>24023</th>\n",
              "      <td>0</td>\n",
              "      <td>0</td>\n",
              "      <td>0</td>\n",
              "      <td>0</td>\n",
              "      <td>0</td>\n",
              "      <td>0</td>\n",
              "      <td>0</td>\n",
              "      <td>0</td>\n",
              "      <td>1</td>\n",
              "      <td>0</td>\n",
              "      <td>...</td>\n",
              "      <td>0</td>\n",
              "      <td>0</td>\n",
              "      <td>0</td>\n",
              "      <td>0</td>\n",
              "      <td>0</td>\n",
              "      <td>0</td>\n",
              "      <td>1</td>\n",
              "      <td>0</td>\n",
              "      <td>0</td>\n",
              "      <td>0</td>\n",
              "    </tr>\n",
              "    <tr>\n",
              "      <th>24036</th>\n",
              "      <td>0</td>\n",
              "      <td>0</td>\n",
              "      <td>0</td>\n",
              "      <td>0</td>\n",
              "      <td>0</td>\n",
              "      <td>0</td>\n",
              "      <td>0</td>\n",
              "      <td>0</td>\n",
              "      <td>1</td>\n",
              "      <td>0</td>\n",
              "      <td>...</td>\n",
              "      <td>0</td>\n",
              "      <td>1</td>\n",
              "      <td>0</td>\n",
              "      <td>0</td>\n",
              "      <td>0</td>\n",
              "      <td>0</td>\n",
              "      <td>0</td>\n",
              "      <td>1</td>\n",
              "      <td>0</td>\n",
              "      <td>0</td>\n",
              "    </tr>\n",
              "    <tr>\n",
              "      <th>24043</th>\n",
              "      <td>0</td>\n",
              "      <td>0</td>\n",
              "      <td>0</td>\n",
              "      <td>0</td>\n",
              "      <td>0</td>\n",
              "      <td>0</td>\n",
              "      <td>0</td>\n",
              "      <td>0</td>\n",
              "      <td>1</td>\n",
              "      <td>0</td>\n",
              "      <td>...</td>\n",
              "      <td>0</td>\n",
              "      <td>1</td>\n",
              "      <td>0</td>\n",
              "      <td>0</td>\n",
              "      <td>1</td>\n",
              "      <td>0</td>\n",
              "      <td>0</td>\n",
              "      <td>0</td>\n",
              "      <td>0</td>\n",
              "      <td>0</td>\n",
              "    </tr>\n",
              "    <tr>\n",
              "      <th>24044</th>\n",
              "      <td>0</td>\n",
              "      <td>0</td>\n",
              "      <td>0</td>\n",
              "      <td>0</td>\n",
              "      <td>0</td>\n",
              "      <td>0</td>\n",
              "      <td>0</td>\n",
              "      <td>0</td>\n",
              "      <td>1</td>\n",
              "      <td>0</td>\n",
              "      <td>...</td>\n",
              "      <td>0</td>\n",
              "      <td>1</td>\n",
              "      <td>0</td>\n",
              "      <td>0</td>\n",
              "      <td>1</td>\n",
              "      <td>0</td>\n",
              "      <td>0</td>\n",
              "      <td>0</td>\n",
              "      <td>0</td>\n",
              "      <td>0</td>\n",
              "    </tr>\n",
              "    <tr>\n",
              "      <th>24046</th>\n",
              "      <td>0</td>\n",
              "      <td>0</td>\n",
              "      <td>0</td>\n",
              "      <td>0</td>\n",
              "      <td>0</td>\n",
              "      <td>0</td>\n",
              "      <td>0</td>\n",
              "      <td>0</td>\n",
              "      <td>1</td>\n",
              "      <td>0</td>\n",
              "      <td>...</td>\n",
              "      <td>0</td>\n",
              "      <td>1</td>\n",
              "      <td>0</td>\n",
              "      <td>0</td>\n",
              "      <td>1</td>\n",
              "      <td>0</td>\n",
              "      <td>0</td>\n",
              "      <td>0</td>\n",
              "      <td>0</td>\n",
              "      <td>0</td>\n",
              "    </tr>\n",
              "  </tbody>\n",
              "</table>\n",
              "<p>7047 rows × 33 columns</p>\n",
              "</div>"
            ],
            "text/plain": [
              "       gender_not_listed  cisgender_man  cisgender_woman  \\\n",
              "8                      0              0                0   \n",
              "16                     0              0                0   \n",
              "23                     0              0                1   \n",
              "24                     0              0                0   \n",
              "27                     0              0                0   \n",
              "...                  ...            ...              ...   \n",
              "24023                  0              0                0   \n",
              "24036                  0              0                0   \n",
              "24043                  0              0                0   \n",
              "24044                  0              0                0   \n",
              "24046                  0              0                0   \n",
              "\n",
              "       non_conforming_or_non_binary  gender_choose_not_to_identify  man  \\\n",
              "8                                 0                              0    0   \n",
              "16                                0                              0    0   \n",
              "23                                0                              0    0   \n",
              "24                                0                              0    0   \n",
              "27                                0                              0    0   \n",
              "...                             ...                            ...  ...   \n",
              "24023                             0                              0    0   \n",
              "24036                             0                              0    0   \n",
              "24043                             0                              0    0   \n",
              "24044                             0                              0    0   \n",
              "24046                             0                              0    0   \n",
              "\n",
              "       transgender_man  transgender_woman  woman  racial_identity_not_listed  \\\n",
              "8                    0                  0      0                           0   \n",
              "16                   0                  0      0                           0   \n",
              "23                   0                  0      1                           0   \n",
              "24                   0                  0      1                           0   \n",
              "27                   0                  0      1                           0   \n",
              "...                ...                ...    ...                         ...   \n",
              "24023                0                  0      1                           0   \n",
              "24036                0                  0      1                           0   \n",
              "24043                0                  0      1                           0   \n",
              "24044                0                  0      1                           0   \n",
              "24046                0                  0      1                           0   \n",
              "\n",
              "       ...  southeast_asian  white  age_0  age_18 to 24  age_25 to 34  \\\n",
              "8      ...                0      0      1             0             0   \n",
              "16     ...                0      0      1             0             0   \n",
              "23     ...                0      1      0             0             1   \n",
              "24     ...                0      1      0             0             0   \n",
              "27     ...                0      0      0             0             0   \n",
              "...    ...              ...    ...    ...           ...           ...   \n",
              "24023  ...                0      0      0             0             0   \n",
              "24036  ...                0      1      0             0             0   \n",
              "24043  ...                0      1      0             0             1   \n",
              "24044  ...                0      1      0             0             1   \n",
              "24046  ...                0      1      0             0             1   \n",
              "\n",
              "       age_35 to 44  age_45 to 54  age_55 to 64  age_65 to 74  age_75 or older  \n",
              "8                 0             0             0             0                0  \n",
              "16                0             0             0             0                0  \n",
              "23                0             0             0             0                0  \n",
              "24                0             1             0             0                0  \n",
              "27                1             0             0             0                0  \n",
              "...             ...           ...           ...           ...              ...  \n",
              "24023             0             1             0             0                0  \n",
              "24036             0             0             1             0                0  \n",
              "24043             0             0             0             0                0  \n",
              "24044             0             0             0             0                0  \n",
              "24046             0             0             0             0                0  \n",
              "\n",
              "[7047 rows x 33 columns]"
            ]
          },
          "execution_count": 68,
          "metadata": {},
          "output_type": "execute_result"
        }
      ],
      "source": [
        "train_set"
      ]
    },
    {
      "cell_type": "code",
      "execution_count": null,
      "metadata": {
        "id": "azYq6VFLZueD",
        "outputId": "0f9dea57-7b8b-4da8-d5e0-051e97e38132"
      },
      "outputs": [
        {
          "data": {
            "text/plain": [
              "RandomForestClassifier()"
            ]
          },
          "execution_count": 73,
          "metadata": {},
          "output_type": "execute_result"
        }
      ],
      "source": [
        "clf.fit(train_set, target)"
      ]
    },
    {
      "cell_type": "code",
      "execution_count": null,
      "metadata": {
        "id": "oVDtjRMpZueE"
      },
      "outputs": [],
      "source": [
        "clf=RandomForestClassifier(n_estimators=100)"
      ]
    },
    {
      "cell_type": "code",
      "execution_count": null,
      "metadata": {
        "id": "VbRZwOUHZueE"
      },
      "outputs": [],
      "source": [
        "feature_imp = pd.Series(clf.feature_importances_, index= train_set.columns).sort_values(ascending=False)"
      ]
    },
    {
      "cell_type": "code",
      "execution_count": null,
      "metadata": {
        "id": "KbqJMqjWZueF",
        "outputId": "4d68597c-953d-4f34-af9c-6845717ed778"
      },
      "outputs": [
        {
          "name": "stderr",
          "output_type": "stream",
          "text": [
            "No handles with labels found to put in legend.\n"
          ]
        },
        {
          "data": {
            "image/png": "[encoded data removed]",
            "text/plain": [
              "<Figure size 432x288 with 1 Axes>"
            ]
          },
          "metadata": {
            "needs_background": "light"
          },
          "output_type": "display_data"
        }
      ],
      "source": [
        "# this one makes 0 sense honestly\n",
        "\n",
        "sns.barplot(x=feature_imp, y=feature_imp.index)\n",
        "plt.xlabel('Feature Importance Score')\n",
        "plt.ylabel('Features')\n",
        "plt.title(\"Visualizing Important Features\")\n"
      ]
    },
    {
      "cell_type": "markdown",
      "metadata": {
        "id": "t3cm2CpXZueG"
      },
      "source": [
        "# RESTART"
      ]
    },
    {
      "cell_type": "code",
      "execution_count": 19,
      "metadata": {
        "colab": {
          "base_uri": "https://localhost:8080/"
        },
        "id": "YDqNOJCjZueG",
        "outputId": "3382c4fa-e89d-4fff-992a-928bbc9769ea"
      },
      "outputs": [
        {
          "output_type": "execute_result",
          "data": {
            "text/plain": [
              "Index(['gender_not_listed', 'cisgender_man', 'cisgender_woman',\n",
              "       'non_conforming_or_non_binary', 'gender_choose_not_to_identify', 'man',\n",
              "       'transgender_man', 'transgender_woman', 'woman',\n",
              "       'racial_identity_not_listed', 'asian', 'biracial_or_mixed',\n",
              "       'black_or_of_african_descent', 'hispanic_or_latinx',\n",
              "       'choose_not_to_identify', 'indigenous',\n",
              "       'indigenous_central_or_south_american', 'middle_eastern',\n",
              "       'native_american', 'native_hawaiian', 'north_african',\n",
              "       'pacific_islander', 'south_asian', 'southeast_asian', 'white', 'age',\n",
              "       'issue_person_civil_rights_and_freedoms',\n",
              "       'issue_person_disability_rights',\n",
              "       'issue_person_economic_and_workers_rights',\n",
              "       'issue_person_education_and_youth_empowerment',\n",
              "       'issue_person_ending_violence_harassment_and_abuse',\n",
              "       'issue_person_environmental_justice',\n",
              "       'issue_person_immigrant_and_refugee_rights',\n",
              "       'issue_person_indigenous_andor_roma_rights',\n",
              "       'issue_person_LGBTQI+_rights', 'issue_person_racial_equity',\n",
              "       'issue_person_reproductive_freedom_and_bodily_autonomy',\n",
              "       'issue_person_sexual_reproductive_and_parental_health'],\n",
              "      dtype='object')"
            ]
          },
          "metadata": {},
          "execution_count": 19
        }
      ],
      "source": [
        "analysis = df.iloc[:, 8:46]\n",
        "analysis.columns"
      ]
    },
    {
      "cell_type": "code",
      "execution_count": 9,
      "metadata": {
        "colab": {
          "base_uri": "https://localhost:8080/"
        },
        "id": "YVQfYydEZueH",
        "outputId": "0b38504e-5662-42a5-ce31-59603b7bfa0c"
      },
      "outputs": [
        {
          "output_type": "execute_result",
          "data": {
            "text/plain": [
              "Index(['gender_not_listed', 'cisgender_man', 'cisgender_woman',\n",
              "       'non_conforming_or_non_binary', 'gender_choose_not_to_identify', 'man',\n",
              "       'transgender_man', 'transgender_woman', 'woman',\n",
              "       'racial_identity_not_listed', 'asian', 'biracial_or_mixed',\n",
              "       'black_or_of_african_descent', 'hispanic_or_latinx',\n",
              "       'choose_not_to_identify', 'indigenous',\n",
              "       'indigenous_central_or_south_american', 'middle_eastern',\n",
              "       'native_american', 'native_hawaiian', 'north_african',\n",
              "       'pacific_islander', 'south_asian', 'southeast_asian', 'white', 'age'],\n",
              "      dtype='object')"
            ]
          },
          "metadata": {},
          "execution_count": 9
        }
      ],
      "source": [
        "analysis.columns[:26]"
      ]
    },
    {
      "cell_type": "code",
      "execution_count": 43,
      "metadata": {
        "id": "fjUFc-uvZueI"
      },
      "outputs": [],
      "source": [
        "demographic_cols = analysis.columns[:26]\n",
        "target_cols = analysis.columns[27:]"
      ]
    },
    {
      "cell_type": "code",
      "source": [
        "target_cols"
      ],
      "metadata": {
        "colab": {
          "base_uri": "https://localhost:8080/"
        },
        "id": "cFivpgKWtGqj",
        "outputId": "133c4212-aeef-4e27-9f97-7a40b85f56bb"
      },
      "execution_count": 75,
      "outputs": [
        {
          "output_type": "execute_result",
          "data": {
            "text/plain": [
              "Index(['issue_person_disability_rights',\n",
              "       'issue_person_economic_and_workers_rights',\n",
              "       'issue_person_education_and_youth_empowerment',\n",
              "       'issue_person_ending_violence_harassment_and_abuse',\n",
              "       'issue_person_environmental_justice',\n",
              "       'issue_person_immigrant_and_refugee_rights',\n",
              "       'issue_person_indigenous_andor_roma_rights',\n",
              "       'issue_person_LGBTQI+_rights', 'issue_person_racial_equity',\n",
              "       'issue_person_reproductive_freedom_and_bodily_autonomy',\n",
              "       'issue_person_sexual_reproductive_and_parental_health'],\n",
              "      dtype='object')"
            ]
          },
          "metadata": {},
          "execution_count": 75
        }
      ]
    },
    {
      "cell_type": "code",
      "execution_count": 11,
      "metadata": {
        "colab": {
          "base_uri": "https://localhost:8080/",
          "height": 392
        },
        "id": "Lexq_6EtZueJ",
        "outputId": "8e1ded7d-4305-4233-a7df-1f73b907ee54"
      },
      "outputs": [
        {
          "output_type": "execute_result",
          "data": {
            "text/html": [
              "\n",
              "  <div id=\"df-89f88e55-a7af-431f-b147-2b491b218e4e\">\n",
              "    <div class=\"colab-df-container\">\n",
              "      <div>\n",
              "<style scoped>\n",
              "    .dataframe tbody tr th:only-of-type {\n",
              "        vertical-align: middle;\n",
              "    }\n",
              "\n",
              "    .dataframe tbody tr th {\n",
              "        vertical-align: top;\n",
              "    }\n",
              "\n",
              "    .dataframe thead th {\n",
              "        text-align: right;\n",
              "    }\n",
              "</style>\n",
              "<table border=\"1\" class=\"dataframe\">\n",
              "  <thead>\n",
              "    <tr style=\"text-align: right;\">\n",
              "      <th></th>\n",
              "      <th>gender_not_listed</th>\n",
              "      <th>cisgender_man</th>\n",
              "      <th>cisgender_woman</th>\n",
              "      <th>non_conforming_or_non_binary</th>\n",
              "      <th>gender_choose_not_to_identify</th>\n",
              "      <th>man</th>\n",
              "      <th>transgender_man</th>\n",
              "      <th>transgender_woman</th>\n",
              "      <th>woman</th>\n",
              "      <th>racial_identity_not_listed</th>\n",
              "      <th>asian</th>\n",
              "      <th>biracial_or_mixed</th>\n",
              "      <th>black_or_of_african_descent</th>\n",
              "      <th>hispanic_or_latinx</th>\n",
              "      <th>choose_not_to_identify</th>\n",
              "      <th>indigenous</th>\n",
              "      <th>indigenous_central_or_south_american</th>\n",
              "      <th>middle_eastern</th>\n",
              "      <th>native_american</th>\n",
              "      <th>native_hawaiian</th>\n",
              "      <th>north_african</th>\n",
              "      <th>pacific_islander</th>\n",
              "      <th>south_asian</th>\n",
              "      <th>southeast_asian</th>\n",
              "      <th>white</th>\n",
              "      <th>age</th>\n",
              "      <th>issue_person_civil_rights_and_freedoms</th>\n",
              "      <th>issue_person_disability_rights</th>\n",
              "      <th>issue_person_economic_and_workers_rights</th>\n",
              "      <th>issue_person_education_and_youth_empowerment</th>\n",
              "      <th>issue_person_ending_violence_harassment_and_abuse</th>\n",
              "      <th>issue_person_environmental_justice</th>\n",
              "      <th>issue_person_immigrant_and_refugee_rights</th>\n",
              "      <th>issue_person_indigenous_andor_roma_rights</th>\n",
              "      <th>issue_person_LGBTQI+_rights</th>\n",
              "      <th>issue_person_racial_equity</th>\n",
              "      <th>issue_person_reproductive_freedom_and_bodily_autonomy</th>\n",
              "      <th>issue_person_sexual_reproductive_and_parental_health</th>\n",
              "    </tr>\n",
              "  </thead>\n",
              "  <tbody>\n",
              "    <tr>\n",
              "      <th>0</th>\n",
              "      <td>0</td>\n",
              "      <td>0</td>\n",
              "      <td>0</td>\n",
              "      <td>0</td>\n",
              "      <td>0</td>\n",
              "      <td>0</td>\n",
              "      <td>0</td>\n",
              "      <td>0</td>\n",
              "      <td>1</td>\n",
              "      <td>0</td>\n",
              "      <td>0</td>\n",
              "      <td>0</td>\n",
              "      <td>0</td>\n",
              "      <td>0</td>\n",
              "      <td>0</td>\n",
              "      <td>0</td>\n",
              "      <td>0</td>\n",
              "      <td>0</td>\n",
              "      <td>0</td>\n",
              "      <td>0</td>\n",
              "      <td>0</td>\n",
              "      <td>0</td>\n",
              "      <td>0</td>\n",
              "      <td>0</td>\n",
              "      <td>1</td>\n",
              "      <td>25 to 34</td>\n",
              "      <td>0</td>\n",
              "      <td>1</td>\n",
              "      <td>0</td>\n",
              "      <td>0</td>\n",
              "      <td>0</td>\n",
              "      <td>0</td>\n",
              "      <td>1</td>\n",
              "      <td>0</td>\n",
              "      <td>1</td>\n",
              "      <td>0</td>\n",
              "      <td>0</td>\n",
              "      <td>0</td>\n",
              "    </tr>\n",
              "    <tr>\n",
              "      <th>1</th>\n",
              "      <td>0</td>\n",
              "      <td>0</td>\n",
              "      <td>0</td>\n",
              "      <td>0</td>\n",
              "      <td>0</td>\n",
              "      <td>0</td>\n",
              "      <td>0</td>\n",
              "      <td>0</td>\n",
              "      <td>1</td>\n",
              "      <td>0</td>\n",
              "      <td>0</td>\n",
              "      <td>0</td>\n",
              "      <td>0</td>\n",
              "      <td>0</td>\n",
              "      <td>0</td>\n",
              "      <td>0</td>\n",
              "      <td>0</td>\n",
              "      <td>0</td>\n",
              "      <td>0</td>\n",
              "      <td>0</td>\n",
              "      <td>0</td>\n",
              "      <td>0</td>\n",
              "      <td>0</td>\n",
              "      <td>0</td>\n",
              "      <td>1</td>\n",
              "      <td>25 to 34</td>\n",
              "      <td>0</td>\n",
              "      <td>0</td>\n",
              "      <td>0</td>\n",
              "      <td>0</td>\n",
              "      <td>1</td>\n",
              "      <td>0</td>\n",
              "      <td>0</td>\n",
              "      <td>1</td>\n",
              "      <td>1</td>\n",
              "      <td>0</td>\n",
              "      <td>0</td>\n",
              "      <td>0</td>\n",
              "    </tr>\n",
              "    <tr>\n",
              "      <th>2</th>\n",
              "      <td>0</td>\n",
              "      <td>0</td>\n",
              "      <td>0</td>\n",
              "      <td>0</td>\n",
              "      <td>0</td>\n",
              "      <td>0</td>\n",
              "      <td>0</td>\n",
              "      <td>0</td>\n",
              "      <td>0</td>\n",
              "      <td>0</td>\n",
              "      <td>0</td>\n",
              "      <td>0</td>\n",
              "      <td>0</td>\n",
              "      <td>0</td>\n",
              "      <td>0</td>\n",
              "      <td>0</td>\n",
              "      <td>0</td>\n",
              "      <td>0</td>\n",
              "      <td>0</td>\n",
              "      <td>0</td>\n",
              "      <td>0</td>\n",
              "      <td>0</td>\n",
              "      <td>0</td>\n",
              "      <td>0</td>\n",
              "      <td>0</td>\n",
              "      <td>NaN</td>\n",
              "      <td>0</td>\n",
              "      <td>0</td>\n",
              "      <td>0</td>\n",
              "      <td>1</td>\n",
              "      <td>1</td>\n",
              "      <td>0</td>\n",
              "      <td>0</td>\n",
              "      <td>0</td>\n",
              "      <td>0</td>\n",
              "      <td>0</td>\n",
              "      <td>0</td>\n",
              "      <td>1</td>\n",
              "    </tr>\n",
              "    <tr>\n",
              "      <th>3</th>\n",
              "      <td>0</td>\n",
              "      <td>0</td>\n",
              "      <td>0</td>\n",
              "      <td>0</td>\n",
              "      <td>0</td>\n",
              "      <td>0</td>\n",
              "      <td>0</td>\n",
              "      <td>0</td>\n",
              "      <td>1</td>\n",
              "      <td>1</td>\n",
              "      <td>0</td>\n",
              "      <td>0</td>\n",
              "      <td>0</td>\n",
              "      <td>0</td>\n",
              "      <td>0</td>\n",
              "      <td>0</td>\n",
              "      <td>0</td>\n",
              "      <td>0</td>\n",
              "      <td>0</td>\n",
              "      <td>0</td>\n",
              "      <td>0</td>\n",
              "      <td>0</td>\n",
              "      <td>0</td>\n",
              "      <td>0</td>\n",
              "      <td>0</td>\n",
              "      <td>45 to 54</td>\n",
              "      <td>0</td>\n",
              "      <td>0</td>\n",
              "      <td>1</td>\n",
              "      <td>0</td>\n",
              "      <td>1</td>\n",
              "      <td>0</td>\n",
              "      <td>0</td>\n",
              "      <td>0</td>\n",
              "      <td>0</td>\n",
              "      <td>0</td>\n",
              "      <td>1</td>\n",
              "      <td>0</td>\n",
              "    </tr>\n",
              "    <tr>\n",
              "      <th>4</th>\n",
              "      <td>1</td>\n",
              "      <td>0</td>\n",
              "      <td>0</td>\n",
              "      <td>0</td>\n",
              "      <td>0</td>\n",
              "      <td>0</td>\n",
              "      <td>0</td>\n",
              "      <td>0</td>\n",
              "      <td>0</td>\n",
              "      <td>0</td>\n",
              "      <td>1</td>\n",
              "      <td>0</td>\n",
              "      <td>0</td>\n",
              "      <td>0</td>\n",
              "      <td>0</td>\n",
              "      <td>0</td>\n",
              "      <td>0</td>\n",
              "      <td>0</td>\n",
              "      <td>0</td>\n",
              "      <td>0</td>\n",
              "      <td>0</td>\n",
              "      <td>0</td>\n",
              "      <td>0</td>\n",
              "      <td>0</td>\n",
              "      <td>0</td>\n",
              "      <td>35 to 44</td>\n",
              "      <td>0</td>\n",
              "      <td>0</td>\n",
              "      <td>1</td>\n",
              "      <td>0</td>\n",
              "      <td>0</td>\n",
              "      <td>0</td>\n",
              "      <td>1</td>\n",
              "      <td>0</td>\n",
              "      <td>1</td>\n",
              "      <td>0</td>\n",
              "      <td>0</td>\n",
              "      <td>0</td>\n",
              "    </tr>\n",
              "  </tbody>\n",
              "</table>\n",
              "</div>\n",
              "      <button class=\"colab-df-convert\" onclick=\"convertToInteractive('df-89f88e55-a7af-431f-b147-2b491b218e4e')\"\n",
              "              title=\"Convert this dataframe to an interactive table.\"\n",
              "              style=\"display:none;\">\n",
              "        \n",
              "  <svg xmlns=\"http://www.w3.org/2000/svg\" height=\"24px\"viewBox=\"0 0 24 24\"\n",
              "       width=\"24px\">\n",
              "    <path d=\"M0 0h24v24H0V0z\" fill=\"none\"/>\n",
              "    <path d=\"M18.56 5.44l.94 2.06.94-2.06 2.06-.94-2.06-.94-.94-2.06-.94 2.06-2.06.94zm-11 1L8.5 8.5l.94-2.06 2.06-.94-2.06-.94L8.5 2.5l-.94 2.06-2.06.94zm10 10l.94 2.06.94-2.06 2.06-.94-2.06-.94-.94-2.06-.94 2.06-2.06.94z\"/><path d=\"M17.41 7.96l-1.37-1.37c-.4-.4-.92-.59-1.43-.59-.52 0-1.04.2-1.43.59L10.3 9.45l-7.72 7.72c-.78.78-.78 2.05 0 2.83L4 21.41c.39.39.9.59 1.41.59.51 0 1.02-.2 1.41-.59l7.78-7.78 2.81-2.81c.8-.78.8-2.07 0-2.86zM5.41 20L4 18.59l7.72-7.72 1.47 1.35L5.41 20z\"/>\n",
              "  </svg>\n",
              "      </button>\n",
              "      \n",
              "  <style>\n",
              "    .colab-df-container {\n",
              "      display:flex;\n",
              "      flex-wrap:wrap;\n",
              "      gap: 12px;\n",
              "    }\n",
              "\n",
              "    .colab-df-convert {\n",
              "      background-color: #E8F0FE;\n",
              "      border: none;\n",
              "      border-radius: 50%;\n",
              "      cursor: pointer;\n",
              "      display: none;\n",
              "      fill: #1967D2;\n",
              "      height: 32px;\n",
              "      padding: 0 0 0 0;\n",
              "      width: 32px;\n",
              "    }\n",
              "\n",
              "    .colab-df-convert:hover {\n",
              "      background-color: #E2EBFA;\n",
              "      box-shadow: 0px 1px 2px rgba(60, 64, 67, 0.3), 0px 1px 3px 1px rgba(60, 64, 67, 0.15);\n",
              "      fill: #174EA6;\n",
              "    }\n",
              "\n",
              "    [theme=dark] .colab-df-convert {\n",
              "      background-color: #3B4455;\n",
              "      fill: #D2E3FC;\n",
              "    }\n",
              "\n",
              "    [theme=dark] .colab-df-convert:hover {\n",
              "      background-color: #434B5C;\n",
              "      box-shadow: 0px 1px 3px 1px rgba(0, 0, 0, 0.15);\n",
              "      filter: drop-shadow(0px 1px 2px rgba(0, 0, 0, 0.3));\n",
              "      fill: #FFFFFF;\n",
              "    }\n",
              "  </style>\n",
              "\n",
              "      <script>\n",
              "        const buttonEl =\n",
              "          document.querySelector('#df-89f88e55-a7af-431f-b147-2b491b218e4e button.colab-df-convert');\n",
              "        buttonEl.style.display =\n",
              "          google.colab.kernel.accessAllowed ? 'block' : 'none';\n",
              "\n",
              "        async function convertToInteractive(key) {\n",
              "          const element = document.querySelector('#df-89f88e55-a7af-431f-b147-2b491b218e4e');\n",
              "          const dataTable =\n",
              "            await google.colab.kernel.invokeFunction('convertToInteractive',\n",
              "                                                     [key], {});\n",
              "          if (!dataTable) return;\n",
              "\n",
              "          const docLinkHtml = 'Like what you see? Visit the ' +\n",
              "            '<a target=\"_blank\" href=https://colab.research.google.com/notebooks/data_table.ipynb>data table notebook</a>'\n",
              "            + ' to learn more about interactive tables.';\n",
              "          element.innerHTML = '';\n",
              "          dataTable['output_type'] = 'display_data';\n",
              "          await google.colab.output.renderOutput(dataTable, element);\n",
              "          const docLink = document.createElement('div');\n",
              "          docLink.innerHTML = docLinkHtml;\n",
              "          element.appendChild(docLink);\n",
              "        }\n",
              "      </script>\n",
              "    </div>\n",
              "  </div>\n",
              "  "
            ],
            "text/plain": [
              "   gender_not_listed  ...  issue_person_sexual_reproductive_and_parental_health\n",
              "0                  0  ...                                                  0   \n",
              "1                  0  ...                                                  0   \n",
              "2                  0  ...                                                  1   \n",
              "3                  0  ...                                                  0   \n",
              "4                  1  ...                                                  0   \n",
              "\n",
              "[5 rows x 38 columns]"
            ]
          },
          "metadata": {},
          "execution_count": 11
        }
      ],
      "source": [
        "analysis.head()"
      ]
    },
    {
      "cell_type": "code",
      "execution_count": 78,
      "metadata": {
        "id": "4QarYBbJZueJ"
      },
      "outputs": [],
      "source": [
        "analysis = pd.get_dummies(analysis)"
      ]
    },
    {
      "cell_type": "code",
      "source": [
        "analysis.columns"
      ],
      "metadata": {
        "colab": {
          "base_uri": "https://localhost:8080/"
        },
        "id": "57CU5wFFtMXV",
        "outputId": "dcc453c2-c55e-458d-f798-4a41a17b685a"
      },
      "execution_count": 79,
      "outputs": [
        {
          "output_type": "execute_result",
          "data": {
            "text/plain": [
              "Index(['gender_not_listed', 'cisgender_man', 'cisgender_woman',\n",
              "       'non_conforming_or_non_binary', 'gender_choose_not_to_identify', 'man',\n",
              "       'transgender_man', 'transgender_woman', 'woman',\n",
              "       'racial_identity_not_listed', 'asian', 'biracial_or_mixed',\n",
              "       'black_or_of_african_descent', 'hispanic_or_latinx',\n",
              "       'choose_not_to_identify', 'indigenous',\n",
              "       'indigenous_central_or_south_american', 'middle_eastern',\n",
              "       'native_american', 'native_hawaiian', 'north_african',\n",
              "       'pacific_islander', 'south_asian', 'southeast_asian', 'white',\n",
              "       'issue_person_civil_rights_and_freedoms',\n",
              "       'issue_person_disability_rights',\n",
              "       'issue_person_economic_and_workers_rights',\n",
              "       'issue_person_education_and_youth_empowerment',\n",
              "       'issue_person_ending_violence_harassment_and_abuse',\n",
              "       'issue_person_environmental_justice',\n",
              "       'issue_person_immigrant_and_refugee_rights',\n",
              "       'issue_person_indigenous_andor_roma_rights',\n",
              "       'issue_person_LGBTQI+_rights', 'issue_person_racial_equity',\n",
              "       'issue_person_reproductive_freedom_and_bodily_autonomy',\n",
              "       'issue_person_sexual_reproductive_and_parental_health', 'age_18 to 24',\n",
              "       'age_25 to 34', 'age_35 to 44', 'age_45 to 54', 'age_55 to 64',\n",
              "       'age_65 to 74', 'age_75 or older'],\n",
              "      dtype='object')"
            ]
          },
          "metadata": {},
          "execution_count": 79
        }
      ]
    },
    {
      "cell_type": "code",
      "execution_count": 13,
      "metadata": {
        "id": "aNu0IKCAZueK"
      },
      "outputs": [],
      "source": [
        "train_set = analysis[[c for c in analysis.columns if c in demographic_cols]]\n",
        "target = analysis[target_cols[1]]"
      ]
    },
    {
      "cell_type": "code",
      "execution_count": 16,
      "metadata": {
        "id": "3_2s4XKMZueL"
      },
      "outputs": [],
      "source": [
        "  clf=RandomForestClassifier(n_estimators=100)"
      ]
    },
    {
      "cell_type": "code",
      "execution_count": 17,
      "metadata": {
        "id": "1lKW55PQZueM"
      },
      "outputs": [],
      "source": [
        "clf.fit(train_set, target)\n",
        "feature_imp = pd.Series(clf.feature_importances_, index= train_set.columns).sort_values(ascending=False)"
      ]
    },
    {
      "cell_type": "code",
      "execution_count": null,
      "metadata": {
        "id": "X3xP3igmZueM",
        "outputId": "9342ec78-ba2e-47d9-fe17-b575953288dc"
      },
      "outputs": [
        {
          "data": {
            "text/plain": [
              "'issue person economic and workers rights'"
            ]
          },
          "execution_count": 38,
          "metadata": {},
          "output_type": "execute_result"
        }
      ],
      "source": [
        "' '.join(target_cols[1].split('_'))"
      ]
    },
    {
      "cell_type": "code",
      "execution_count": null,
      "metadata": {
        "id": "jcvcyqh2ZueN",
        "outputId": "9e9850de-298c-4581-9d36-01536012b513"
      },
      "outputs": [
        {
          "data": {
            "text/plain": [
              "Text(0.5, 1.0, 'Visualizing Important Features for issue person economic and workers rights')"
            ]
          },
          "execution_count": 45,
          "metadata": {},
          "output_type": "execute_result"
        },
        {
          "data": {
            "image/png": "[encoded data removed]",
            "text/plain": [
              "<Figure size 432x288 with 1 Axes>"
            ]
          },
          "metadata": {
            "needs_background": "light"
          },
          "output_type": "display_data"
        }
      ],
      "source": [
        "sns.barplot(x = feature_imp, y = feature_imp.index)\n",
        "plt.xlabel('Feature Importance Score')\n",
        "plt.ylabel('Features')\n",
        "plt.title(\"Visualizing Important Features for \" + ' '.join(target_cols[1].split('_')))\n"
      ]
    },
    {
      "cell_type": "markdown",
      "metadata": {
        "id": "Xuv8uR0MZueO"
      },
      "source": [
        "# Maybe demographics also shapes the perception of which barriers will be faced in overcoming issues?\n",
        "Analyse barrier chosen"
      ]
    },
    {
      "cell_type": "code",
      "source": [
        "import numpy as np"
      ],
      "metadata": {
        "id": "OyofwmPInKWr"
      },
      "execution_count": 25,
      "outputs": []
    },
    {
      "cell_type": "code",
      "source": [
        "barrier_analysis = df.iloc[:,np.r_[8:34,46:58]]"
      ],
      "metadata": {
        "id": "gNnERkpciw58"
      },
      "execution_count": 69,
      "outputs": []
    },
    {
      "cell_type": "code",
      "source": [
        "demographics = barrier_analysis.columns[:26]\n",
        "target_barriers = barrier_analysis.columns[26:]"
      ],
      "metadata": {
        "id": "AcUzSMernmbD"
      },
      "execution_count": 70,
      "outputs": []
    },
    {
      "cell_type": "code",
      "source": [
        "barrier_analysis = pd.get_dummies(barrier_analysis)"
      ],
      "metadata": {
        "id": "NgWbgDW9n79H"
      },
      "execution_count": 72,
      "outputs": []
    },
    {
      "cell_type": "code",
      "source": [
        "train_set_barrier = barrier_analysis[[x for x in barrier_analysis.columns if x in demographics]]\n",
        "target_set_barrier = barrier_analysis[target_barriers[1]]"
      ],
      "metadata": {
        "id": "n_fgNQLxop_X"
      },
      "execution_count": 65,
      "outputs": []
    },
    {
      "cell_type": "code",
      "source": [
        "target_barriers[1]"
      ],
      "metadata": {
        "colab": {
          "base_uri": "https://localhost:8080/",
          "height": 37
        },
        "id": "uGUd6vNps2ZO",
        "outputId": "d8b4e72e-2f1f-47a2-ec47-f20dca0c9ac7"
      },
      "execution_count": 74,
      "outputs": [
        {
          "output_type": "execute_result",
          "data": {
            "application/vnd.google.colaboratory.intrinsic+json": {
              "type": "string"
            },
            "text/plain": [
              "'barrier_person_disability_rights'"
            ]
          },
          "metadata": {},
          "execution_count": 74
        }
      ]
    },
    {
      "cell_type": "code",
      "source": [
        "rfc = RandomForestClassifier(n_estimators=100)\n",
        "rfc.fit(train_set_barrier,target_set_barrier)"
      ],
      "metadata": {
        "colab": {
          "base_uri": "https://localhost:8080/"
        },
        "id": "GFEfEkrLpqNt",
        "outputId": "8d4b0ea5-b690-4ac3-9099-d9b66555a1b1"
      },
      "execution_count": 66,
      "outputs": [
        {
          "output_type": "execute_result",
          "data": {
            "text/plain": [
              "RandomForestClassifier()"
            ]
          },
          "metadata": {},
          "execution_count": 66
        }
      ]
    },
    {
      "cell_type": "code",
      "source": [
        "feature_importance = pd.Series(rfc.feature_importances_, index = train_set_barrier.columns).sort_values(ascending = False)"
      ],
      "metadata": {
        "id": "2I0bQIxwpz4J"
      },
      "execution_count": 67,
      "outputs": []
    },
    {
      "cell_type": "code",
      "source": [
        "sns.barplot(feature_importance, feature_importance.index)\n",
        "plt.xlabel('Feature Importance Score')\n",
        "plt.ylabel('Features')\n",
        "plt.title(\"Visualizing Important Features for \" + ' '.join(target_barriers[1].split('_')))"
      ],
      "metadata": {
        "colab": {
          "base_uri": "https://localhost:8080/",
          "height": 366
        },
        "id": "j59CirwvqZwp",
        "outputId": "13a2b67c-f004-4fac-b47f-b67f81d43555"
      },
      "execution_count": 83,
      "outputs": [
        {
          "output_type": "stream",
          "name": "stderr",
          "text": [
            "/usr/local/lib/python3.7/dist-packages/seaborn/_decorators.py:43: FutureWarning: Pass the following variables as keyword args: x, y. From version 0.12, the only valid positional argument will be `data`, and passing other arguments without an explicit keyword will result in an error or misinterpretation.\n",
            "  FutureWarning\n"
          ]
        },
        {
          "output_type": "execute_result",
          "data": {
            "text/plain": [
              "Text(0.5, 1.0, 'Visualizing Important Features for barrier person disability rights')"
            ]
          },
          "metadata": {},
          "execution_count": 83
        },
        {
          "output_type": "display_data",
          "data": {
            "image/png": "[encoded data removed]",
            "text/plain": [
              "<Figure size 432x288 with 1 Axes>"
            ]
          },
          "metadata": {
            "needs_background": "light"
          }
        }
      ]
    }
  ],
  "metadata": {
    "interpreter": {
      "hash": "a00b87f3dafb8c5b0afdf77add0e2432ad578e1240a81446720c0c7d6c46e214"
    },
    "kernelspec": {
      "display_name": "Python 3.9.10 64-bit (windows store)",
      "language": "python",
      "name": "python3"
    },
    "language_info": {
      "codemirror_mode": {
        "name": "ipython",
        "version": 3
      },
      "file_extension": ".py",
      "mimetype": "text/x-python",
      "name": "python",
      "nbconvert_exporter": "python",
      "pygments_lexer": "ipython3",
      "version": "3.9.10"
    },
    "orig_nbformat": 4,
    "colab": {
      "name": "Inferential_stats.ipynb",
      "provenance": []
    }
  },
  "nbformat": 4,
  "nbformat_minor": 0
}